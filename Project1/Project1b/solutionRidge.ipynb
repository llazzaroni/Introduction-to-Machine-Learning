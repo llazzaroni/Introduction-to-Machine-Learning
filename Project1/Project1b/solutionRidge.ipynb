{
 "cells": [
  {
   "cell_type": "markdown",
   "metadata": {},
   "source": [
    "#### General guidance\n",
    "\n",
    "This serves as a template which will guide you through the implementation of this task. It is advised\n",
    "to first read the whole template and get a sense of the overall structure of the code before trying to fill in any of the TODO gaps.\n",
    "This is the jupyter notebook version of the template. For the python file version, please refer to the file `template_solution.py`.\n",
    "\n",
    "First, we import necessary libraries:"
   ]
  },
  {
   "cell_type": "code",
   "execution_count": 10,
   "metadata": {},
   "outputs": [],
   "source": [
    "import numpy as np\n",
    "import pandas as pd\n",
    "from sklearn.model_selection import KFold\n",
    "\n",
    "# Add any additional imports here (however, the task is solvable without using \n",
    "# any additional imports)\n",
    "# import ..."
   ]
  },
  {
   "cell_type": "markdown",
   "metadata": {},
   "source": [
    " #### Loading data"
   ]
  },
  {
   "cell_type": "code",
   "execution_count": 11,
   "metadata": {},
   "outputs": [
    {
     "name": "stdout",
     "output_type": "stream",
     "text": [
      "     x1    x2    x3    x4    x5\n",
      "0  0.02  0.05 -0.09 -0.43 -0.08\n",
      "1 -0.13  0.11 -0.08 -0.29 -0.03\n",
      "2  0.08  0.06 -0.07 -0.41 -0.03\n",
      "3  0.02 -0.12  0.01 -0.43 -0.02\n",
      "4 -0.14 -0.12 -0.08 -0.02 -0.08\n"
     ]
    }
   ],
   "source": [
    "data = pd.read_csv(\"train.csv\")\n",
    "y = data[\"y\"].to_numpy()\n",
    "data = data.drop(columns=[\"Id\", \"y\"])\n",
    "# print a few data samples\n",
    "print(data.head())\n",
    "X = data.to_numpy()"
   ]
  },
  {
   "cell_type": "markdown",
   "metadata": {},
   "source": [
    "#### Transform data"
   ]
  },
  {
   "cell_type": "code",
   "execution_count": 12,
   "metadata": {},
   "outputs": [],
   "source": [
    "\"\"\"\n",
    "Transform the 5 input features of matrix X (x_i denoting the i-th component of X) \n",
    "into 21 new features phi(X) in the following manner:\n",
    "5 linear features: phi_1(X) = x_1, phi_2(X) = x_2, phi_3(X) = x_3, phi_4(X) = x_4, phi_5(X) = x_5\n",
    "5 quadratic features: phi_6(X) = x_1^2, phi_7(X) = x_2^2, phi_8(X) = x_3^2, phi_9(X) = x_4^2, phi_10(X) = x_5^2\n",
    "5 exponential features: phi_11(X) = exp(x_1), phi_12(X) = exp(x_2), phi_13(X) = exp(x_3), phi_14(X) = exp(x_4), phi_15(X) = exp(x_5)\n",
    "5 cosine features: phi_16(X) = cos(x_1), phi_17(X) = cos(x_2), phi_18(X) = cos(x_3), phi_19(X) = cos(x_4), phi_20(X) = cos(x_5)\n",
    "1 constant feature: phi_21(X)=1\n",
    "\n",
    "Parameters\n",
    "----------\n",
    "X: matrix of floats, dim = (700,5), inputs with 5 features\n",
    "\n",
    "Compute\n",
    "----------\n",
    "X_transformed: array of floats: dim = (700,21), transformed input with 21 features\n",
    "\"\"\"\n",
    "#X_transformed = np.zeros((700, 21))\n",
    "# TODO: Enter your code here\n",
    "\n",
    "X_transformed = (X , X**2 , np.exp(X) , np.cos(X) , np.ones([X.shape[0],1]))\n",
    "X_transformed = np.concatenate(X_transformed , axis=1)\n",
    "\n",
    "assert X_transformed.shape == (700, 21)"
   ]
  },
  {
   "cell_type": "code",
   "execution_count": 13,
   "metadata": {},
   "outputs": [
    {
     "name": "stdout",
     "output_type": "stream",
     "text": [
      "11.061061061061062\n",
      "2.035035284875038\n",
      "[ 0.12724652 -0.29733336 -0.43613793  0.21885479  0.08247578 -0.14783658\n",
      "  0.07962164  0.08215889 -0.1135829   0.03001243 -0.51418645 -0.82454909\n",
      " -0.96425633 -0.40101277 -0.47139526 -0.49168687 -0.60472175 -0.60594929\n",
      " -0.50947163 -0.57946951 -0.56513949]\n"
     ]
    }
   ],
   "source": [
    "def calculate_RMSE(w, X, y):\n",
    "    y_hat = X @ w\n",
    "    RMSE = np.sqrt(np.sum((y - y_hat)**2) / len(y))\n",
    "    return RMSE\n",
    "\n",
    "def fit(X, y, lam):\n",
    "    w = np.linalg.inv(X.T @ X + lam * np.identity(X.shape[1])) @ X.T @ y\n",
    "    return w\n",
    "\n",
    "#initialize lambdas and the number of folds\n",
    "lambdas = np.linspace(0,50,1000)\n",
    "n_folds = 5\n",
    "RMSE_mat = np.zeros((n_folds, len(lambdas)))\n",
    "\n",
    "\n",
    "#split the training set in n_folds and find out the lambda which gives the smallest RMSE\n",
    "kf = KFold(n_splits=n_folds)\n",
    "for m , (train_index , test_index) in enumerate(kf.split(X_transformed)):\n",
    "    for n , lam in enumerate(lambdas):\n",
    "        w = fit(X_transformed[train_index],y[train_index],lam)\n",
    "        RMSE = calculate_RMSE(w,X_transformed[test_index],y[test_index])\n",
    "        RMSE_mat[m][n] = RMSE\n",
    "\n",
    "avg_RMSE = np.mean(RMSE_mat, axis=0) \n",
    "lam = lambdas[np.argmin(avg_RMSE)]\n",
    "print(lam)\n",
    "\n",
    "\n",
    "#retrain the model with the chosen lambda\n",
    "w = fit(X_transformed , y , lam)\n",
    "RMSE = calculate_RMSE(w,X_transformed[test_index],y[test_index])\n",
    "print(RMSE)\n",
    "print(w)\n",
    "#assert w.shape == (21,)"
   ]
  },
  {
   "cell_type": "code",
   "execution_count": 14,
   "metadata": {},
   "outputs": [],
   "source": [
    "# Save results in the required format\n",
    "np.savetxt(\"./resultsRidge.csv\", w, fmt=\"%.12f\")"
   ]
  },
  {
   "cell_type": "code",
   "execution_count": null,
   "metadata": {},
   "outputs": [],
   "source": []
  }
 ],
 "metadata": {
  "kernelspec": {
   "display_name": "machineperception",
   "language": "python",
   "name": "python3"
  },
  "language_info": {
   "codemirror_mode": {
    "name": "ipython",
    "version": 3
   },
   "file_extension": ".py",
   "mimetype": "text/x-python",
   "name": "python",
   "nbconvert_exporter": "python",
   "pygments_lexer": "ipython3",
   "version": "3.10.16"
  }
 },
 "nbformat": 4,
 "nbformat_minor": 2
}
